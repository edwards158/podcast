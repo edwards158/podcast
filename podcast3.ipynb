{
 "cells": [
  {
   "cell_type": "code",
   "execution_count": 177,
   "metadata": {},
   "outputs": [],
   "source": [
    "import os\n",
    "from scipy.io import wavfile\n",
    "import pandas as pd\n",
    "import matplotlib.pyplot as plt\n",
    "import numpy as np\n",
    "from keras.layers import Conv2D, MaxPool2D, Flatten\n",
    "from keras.layers import Dropout, Dense, TimeDistributed\n",
    "from keras.models import Sequential\n",
    "from keras.utils import to_categorical\n",
    "from sklearn.utils.class_weight import compute_class_weight\n",
    "from tqdm import tqdm\n",
    "from python_speech_features import mfcc\n",
    "from sklearn.metrics import accuracy_score\n",
    "from keras.callbacks import ModelCheckpoint\n",
    "\n",
    "path = 'C://Users//richard//OneDrive//Documents//Audacity//wavfiles//'\n",
    "audio_classes_path = 'C://Users//richard//OneDrive//Documents//Audacity//audio_classes.csv'"
   ]
  },
  {
   "cell_type": "markdown",
   "metadata": {},
   "source": [
    "## Method\n",
    "- Using the csv file which contains the list of files and their labels, generate a pandas dataframe.\n",
    "- Use the dataframe to index the files and get a random window of audio\n",
    "- Train on this audio using a CNN.  Train, test split is not required as all the audio comes from the same place and is of small size\n",
    "- Go through all the files every 0.1 s and compare prediction to label \n",
    "- See Final preedcitons and conclusions at bottom of file."
   ]
  },
  {
   "cell_type": "markdown",
   "metadata": {},
   "source": [
    "## Class distribution"
   ]
  },
  {
   "cell_type": "code",
   "execution_count": 178,
   "metadata": {},
   "outputs": [
    {
     "name": "stderr",
     "output_type": "stream",
     "text": [
      "C:\\Users\\richard\\Anaconda3\\envs\\tf15\\lib\\site-packages\\scipy\\io\\wavfile.py:273: WavFileWarning: Chunk (non-data) not understood, skipping it.\n",
      "  WavFileWarning)\n"
     ]
    },
    {
     "data": {
      "image/png": "[encoded data removed]",
      "text/plain": [
       "<Figure size 432x288 with 1 Axes>"
      ]
     },
     "metadata": {},
     "output_type": "display_data"
    }
   ],
   "source": [
    "df = pd.read_csv(audio_classes_path)\n",
    "df.set_index('file_name', inplace=True)\n",
    "\n",
    "for f in df.index:\n",
    "    rate, signal = wavfile.read(path+f)\n",
    "    df.at[f, 'length'] = signal.shape[0]/rate\n",
    "\n",
    "classes = list(np.unique(df.label))\n",
    "class_dist = df.groupby(['label'])['length'].mean()\n",
    "\n",
    "fig, ax = plt.subplots()\n",
    "ax.set_title('Class Distribution', y=1.08)\n",
    "ax.pie(class_dist, labels=class_dist.index, autopct='%1.1f%%',\n",
    "       shadow=False, startangle=90)\n",
    "ax.axis('equal')\n",
    "plt.show()"
   ]
  },
  {
   "cell_type": "code",
   "execution_count": 179,
   "metadata": {},
   "outputs": [
    {
     "data": {
      "text/html": [
       "<div>\n",
       "<style scoped>\n",
       "    .dataframe tbody tr th:only-of-type {\n",
       "        vertical-align: middle;\n",
       "    }\n",
       "\n",
       "    .dataframe tbody tr th {\n",
       "        vertical-align: top;\n",
       "    }\n",
       "\n",
       "    .dataframe thead th {\n",
       "        text-align: right;\n",
       "    }\n",
       "</style>\n",
       "<table border=\"1\" class=\"dataframe\">\n",
       "  <thead>\n",
       "    <tr style=\"text-align: right;\">\n",
       "      <th></th>\n",
       "      <th>label</th>\n",
       "      <th>length</th>\n",
       "    </tr>\n",
       "    <tr>\n",
       "      <th>file_name</th>\n",
       "      <th></th>\n",
       "      <th></th>\n",
       "    </tr>\n",
       "  </thead>\n",
       "  <tbody>\n",
       "    <tr>\n",
       "      <th>music_plus_noise1.wav</th>\n",
       "      <td>music_noise</td>\n",
       "      <td>7.543288</td>\n",
       "    </tr>\n",
       "    <tr>\n",
       "      <th>music_plus_noise2.wav</th>\n",
       "      <td>music_noise</td>\n",
       "      <td>6.991315</td>\n",
       "    </tr>\n",
       "    <tr>\n",
       "      <th>music_twintones1.wav</th>\n",
       "      <td>music_noise</td>\n",
       "      <td>5.944308</td>\n",
       "    </tr>\n",
       "    <tr>\n",
       "      <th>music_plus_speech1.wav</th>\n",
       "      <td>music_speech</td>\n",
       "      <td>4.768209</td>\n",
       "    </tr>\n",
       "    <tr>\n",
       "      <th>music1.wav</th>\n",
       "      <td>music</td>\n",
       "      <td>2.018050</td>\n",
       "    </tr>\n",
       "  </tbody>\n",
       "</table>\n",
       "</div>"
      ],
      "text/plain": [
       "                               label    length\n",
       "file_name                                     \n",
       "music_plus_noise1.wav    music_noise  7.543288\n",
       "music_plus_noise2.wav    music_noise  6.991315\n",
       "music_twintones1.wav     music_noise  5.944308\n",
       "music_plus_speech1.wav  music_speech  4.768209\n",
       "music1.wav                     music  2.018050"
      ]
     },
     "execution_count": 179,
     "metadata": {},
     "output_type": "execute_result"
    }
   ],
   "source": [
    "df.head()"
   ]
  },
  {
   "cell_type": "code",
   "execution_count": 180,
   "metadata": {},
   "outputs": [
    {
     "data": {
      "text/plain": [
       "1896"
      ]
     },
     "execution_count": 180,
     "metadata": {},
     "output_type": "execute_result"
    }
   ],
   "source": [
    "#get number of samples to draw from the audio files\n",
    "n_samples = 2 * int(df['length'].sum()/0.1)\n",
    "n_samples"
   ]
  },
  {
   "cell_type": "code",
   "execution_count": 181,
   "metadata": {},
   "outputs": [
    {
     "data": {
      "text/plain": [
       "94.87106575963719"
      ]
     },
     "execution_count": 181,
     "metadata": {},
     "output_type": "execute_result"
    }
   ],
   "source": [
    "#total length of all the audio in the files\n",
    "df.length.sum()"
   ]
  },
  {
   "cell_type": "code",
   "execution_count": 182,
   "metadata": {},
   "outputs": [
    {
     "data": {
      "text/plain": [
       "label\n",
       "music_noise        6.826304\n",
       "music_speech       4.768209\n",
       "speech_nb_noise    2.947545\n",
       "noise              2.823212\n",
       "speech_wb_noise    2.554422\n",
       "music              1.955057\n",
       "speech_nb          1.409063\n",
       "speech_wb          1.223050\n",
       "Name: length, dtype: float64"
      ]
     },
     "execution_count": 182,
     "metadata": {},
     "output_type": "execute_result"
    }
   ],
   "source": [
    "#0 -1 class dist\n",
    "prob_dist = class_dist / class_dist.sum()\n",
    "\n",
    "#get a choice of instrument randomly based on class distribution\n",
    "choices = np.random.choice(class_dist.index,p=prob_dist)\n",
    "\n",
    "class_dist=class_dist.sort_values(ascending=False)\n",
    "class_dist"
   ]
  },
  {
   "cell_type": "code",
   "execution_count": 183,
   "metadata": {},
   "outputs": [
    {
     "data": {
      "text/plain": [
       "Index(['music_noise', 'music_speech', 'speech_nb_noise', 'noise',\n",
       "       'speech_wb_noise', 'music', 'speech_nb', 'speech_wb'],\n",
       "      dtype='object', name='label')"
      ]
     },
     "execution_count": 183,
     "metadata": {},
     "output_type": "execute_result"
    }
   ],
   "source": [
    "class_dist.index"
   ]
  },
  {
   "cell_type": "markdown",
   "metadata": {},
   "source": [
    "## Make a CNN model\n",
    "Use general image processing network, increasing size of feature maps at each layer.  As output is eight classes use softmax at output to get majority class probability.  Max pooling can be used but images are small anyway 13x13 or 26x26.  Since using small size and same data files will overfit anyway so not using test and validation set."
   ]
  },
  {
   "cell_type": "code",
   "execution_count": 184,
   "metadata": {},
   "outputs": [],
   "source": [
    "def get_conv_model():\n",
    "    model = Sequential()\n",
    "    model.add(Conv2D(32,(3,3),activation='relu',strides=(1,1),padding='same',input_shape=input_shape))\n",
    "    #model.add(MaxPool2D((2,2)))\n",
    "    model.add(Conv2D(64,(3,3),activation='relu',strides=(1,1),padding='same'))\n",
    "    #model.add(MaxPool2D((2,2)))\n",
    "    model.add(Conv2D(128,(3,3),activation='relu',strides=(1,1),padding='same'))\n",
    "    #model.add(MaxPool2D((2,2)))\n",
    "    model.add(Conv2D(256,(3,3),activation='relu',strides=(1,1),padding='same'))\n",
    "    #model.add(MaxPool2D((2,2)))\n",
    "    model.add(Dropout(0.1))\n",
    "    model.add(Flatten())\n",
    "    model.add(Dense(256,activation='relu'))\n",
    "    model.add(Dense(128,activation='relu'))\n",
    "    model.add(Dense(64,activation='relu'))\n",
    "    model.add(Dense(8,activation='softmax'))\n",
    "    model.summary()\n",
    "    model.compile(loss='categorical_crossentropy',optimizer='adam',metrics=['acc'])\n",
    "    return model"
   ]
  },
  {
   "cell_type": "markdown",
   "metadata": {},
   "source": [
    "## Make a helper class"
   ]
  },
  {
   "cell_type": "code",
   "execution_count": 185,
   "metadata": {},
   "outputs": [],
   "source": [
    "class Config():\n",
    "    def __init__(self,mode = 'conv', nfilt=26, nfeat=26, nfft=2048,rate=16000):\n",
    "        self.mode = mode\n",
    "        self.nfilt = nfilt\n",
    "        self.nfeat = nfeat\n",
    "        self.nfft = nfft\n",
    "        self.rate = rate\n",
    "        self.step = int(rate/10)"
   ]
  },
  {
   "cell_type": "markdown",
   "metadata": {},
   "source": [
    "## Generate data from files\n",
    "Need to get random chunks of the data from the files.  These chunks here are 0.1s long and selected randomly from the distribution given above\n"
   ]
  },
  {
   "cell_type": "code",
   "execution_count": 186,
   "metadata": {},
   "outputs": [],
   "source": [
    "#generate random sampling from dataset\n",
    "def build_rand_feat():\n",
    "    X = [];y=[]\n",
    "    \n",
    "    _min,_max = float('inf'),-float('inf')\n",
    "    \n",
    "    for _ in tqdm(range(n_samples)):\n",
    "        rand_class = np.random.choice(class_dist.index,p=prob_dist)   \n",
    "        \n",
    "        #get random file based on random instrument\n",
    "        file = np.random.choice(df[df.label==rand_class].index)      \n",
    "        rate,wav = wavfile.read(path + file)                        \n",
    "        label = df.at[file,'label'] \n",
    "        \n",
    "        #get random chunk from file\n",
    "        rand_index = np.random.randint(0,wav.shape[0] - config.step) \n",
    "        sample = wav[rand_index:rand_index+config.step]              \n",
    "        X_sample = mfcc(sample,rate,numcep=config.nfeat, nfilt = config.nfilt, nfft=config.nfft)\n",
    "        \n",
    "        #running update of min/max\n",
    "        _min = min(np.amin(X_sample),_min)                        \n",
    "        _max = max(np.amax(X_sample),_max)\n",
    "        X.append(X_sample)\n",
    "        y.append(classes.index(label))                             #get index number\n",
    "        \n",
    "    config.min = _min\n",
    "    config.max = _max\n",
    "    \n",
    "    X, y = np.array(X),np.array(y)                                #normalise the data\n",
    "    \n",
    "    X = (X - _min)/ (_max - _min)\n",
    "        \n",
    "    X = X.reshape(X.shape[0],X.shape[1], X.shape[2],1) #samples * rows (time) * cols(mfccs) * 1 \n",
    "    y = to_categorical(y,num_classes=8)\n",
    "    \n",
    "    _min = str(_min)\n",
    "    _max = str(_max)\n",
    "    \n",
    "    return X,y,_min,_max"
   ]
  },
  {
   "cell_type": "code",
   "execution_count": 187,
   "metadata": {},
   "outputs": [],
   "source": [
    "config= Config()"
   ]
  },
  {
   "cell_type": "code",
   "execution_count": 188,
   "metadata": {},
   "outputs": [
    {
     "name": "stderr",
     "output_type": "stream",
     "text": [
      "  3%|██▌                                                                            | 63/1896 [00:00<00:06, 304.35it/s]C:\\Users\\richard\\Anaconda3\\envs\\tf15\\lib\\site-packages\\scipy\\io\\wavfile.py:273: WavFileWarning: Chunk (non-data) not understood, skipping it.\n",
      "  WavFileWarning)\n",
      "100%|█████████████████████████████████████████████████████████████████████████████| 1896/1896 [00:05<00:00, 317.53it/s]\n"
     ]
    },
    {
     "name": "stdout",
     "output_type": "stream",
     "text": [
      "_________________________________________________________________\n",
      "Layer (type)                 Output Shape              Param #   \n",
      "=================================================================\n",
      "conv2d_29 (Conv2D)           (None, 3, 26, 32)         320       \n",
      "_________________________________________________________________\n",
      "conv2d_30 (Conv2D)           (None, 3, 26, 64)         18496     \n",
      "_________________________________________________________________\n",
      "conv2d_31 (Conv2D)           (None, 3, 26, 128)        73856     \n",
      "_________________________________________________________________\n",
      "conv2d_32 (Conv2D)           (None, 3, 26, 256)        295168    \n",
      "_________________________________________________________________\n",
      "dropout_8 (Dropout)          (None, 3, 26, 256)        0         \n",
      "_________________________________________________________________\n",
      "flatten_8 (Flatten)          (None, 19968)             0         \n",
      "_________________________________________________________________\n",
      "dense_29 (Dense)             (None, 256)               5112064   \n",
      "_________________________________________________________________\n",
      "dense_30 (Dense)             (None, 128)               32896     \n",
      "_________________________________________________________________\n",
      "dense_31 (Dense)             (None, 64)                8256      \n",
      "_________________________________________________________________\n",
      "dense_32 (Dense)             (None, 8)                 520       \n",
      "=================================================================\n",
      "Total params: 5,541,576\n",
      "Trainable params: 5,541,576\n",
      "Non-trainable params: 0\n",
      "_________________________________________________________________\n"
     ]
    }
   ],
   "source": [
    "#build dataset using distirbution we have defined\n",
    "X,y,_min,_max = build_rand_feat()\n",
    "y_flat = np.argmax(y,axis=1)      #get the max value across each row \n",
    "input_shape = (X.shape[1],X.shape[2],1)\n",
    "model = get_conv_model()"
   ]
  },
  {
   "cell_type": "code",
   "execution_count": 189,
   "metadata": {},
   "outputs": [
    {
     "name": "stdout",
     "output_type": "stream",
     "text": [
      "(1896, 3, 26, 1)\n",
      "(1896, 8)\n"
     ]
    }
   ],
   "source": [
    "print(X.shape) \n",
    "print(y.shape)"
   ]
  },
  {
   "cell_type": "code",
   "execution_count": 190,
   "metadata": {},
   "outputs": [],
   "source": [
    "#base weights on prob dist defined above - need as unbalanced\n",
    "class_weight = compute_class_weight('balanced',np.unique(y_flat),y_flat)  "
   ]
  },
  {
   "cell_type": "code",
   "execution_count": 191,
   "metadata": {},
   "outputs": [
    {
     "data": {
      "text/plain": [
       "array([1.05803571, 1.52903226, 0.43807763, 1.15048544, 2.69318182,\n",
       "       0.62204724, 1.16748768, 2.41836735])"
      ]
     },
     "execution_count": 191,
     "metadata": {},
     "output_type": "execute_result"
    }
   ],
   "source": [
    "class_weight"
   ]
  },
  {
   "cell_type": "code",
   "execution_count": 192,
   "metadata": {},
   "outputs": [
    {
     "name": "stdout",
     "output_type": "stream",
     "text": [
      "Epoch 1/50\n",
      " - 2s - loss: 1.8995 - acc: 0.2911\n",
      "Epoch 2/50\n",
      " - 2s - loss: 0.7511 - acc: 0.7431\n",
      "Epoch 3/50\n",
      " - 2s - loss: 0.5452 - acc: 0.8043\n",
      "Epoch 4/50\n",
      " - 2s - loss: 0.4738 - acc: 0.8233\n",
      "Epoch 5/50\n",
      " - 2s - loss: 0.3807 - acc: 0.8523\n",
      "Epoch 6/50\n",
      " - 2s - loss: 0.3445 - acc: 0.8745\n",
      "Epoch 7/50\n",
      " - 2s - loss: 0.3194 - acc: 0.8739\n",
      "Epoch 8/50\n",
      " - 2s - loss: 0.3054 - acc: 0.8797\n",
      "Epoch 9/50\n",
      " - 2s - loss: 0.2588 - acc: 0.9024\n",
      "Epoch 10/50\n",
      " - 2s - loss: 0.2461 - acc: 0.9103\n",
      "Epoch 11/50\n",
      " - 2s - loss: 0.2229 - acc: 0.9182\n",
      "Epoch 12/50\n",
      " - 2s - loss: 0.2072 - acc: 0.9272\n",
      "Epoch 13/50\n",
      " - 2s - loss: 0.2244 - acc: 0.9204\n",
      "Epoch 14/50\n",
      " - 2s - loss: 0.1882 - acc: 0.9330\n",
      "Epoch 15/50\n",
      " - 2s - loss: 0.1687 - acc: 0.9346\n",
      "Epoch 16/50\n",
      " - 2s - loss: 0.1273 - acc: 0.9525\n",
      "Epoch 17/50\n",
      " - 2s - loss: 0.1390 - acc: 0.9499\n",
      "Epoch 18/50\n",
      " - 2s - loss: 0.1422 - acc: 0.9509\n",
      "Epoch 19/50\n",
      " - 2s - loss: 0.1192 - acc: 0.9578\n",
      "Epoch 20/50\n",
      " - 2s - loss: 0.1400 - acc: 0.9515\n",
      "Epoch 21/50\n",
      " - 2s - loss: 0.1037 - acc: 0.9641\n",
      "Epoch 22/50\n",
      " - 2s - loss: 0.0976 - acc: 0.9673\n",
      "Epoch 23/50\n",
      " - 2s - loss: 0.1026 - acc: 0.9673\n",
      "Epoch 24/50\n",
      " - 2s - loss: 0.1040 - acc: 0.9631\n",
      "Epoch 25/50\n",
      " - 2s - loss: 0.1080 - acc: 0.9620\n",
      "Epoch 26/50\n",
      " - 2s - loss: 0.0553 - acc: 0.9815\n",
      "Epoch 27/50\n",
      " - 2s - loss: 0.0515 - acc: 0.9826\n",
      "Epoch 28/50\n",
      " - 2s - loss: 0.0357 - acc: 0.9852\n",
      "Epoch 29/50\n",
      " - 2s - loss: 0.0706 - acc: 0.9784\n",
      "Epoch 30/50\n",
      " - 2s - loss: 0.1031 - acc: 0.9626\n",
      "Epoch 31/50\n",
      " - 2s - loss: 0.0647 - acc: 0.9768\n",
      "Epoch 32/50\n",
      " - 2s - loss: 0.0695 - acc: 0.9747\n",
      "Epoch 33/50\n",
      " - 2s - loss: 0.0874 - acc: 0.9678\n",
      "Epoch 34/50\n",
      " - 2s - loss: 0.0649 - acc: 0.9800\n",
      "Epoch 35/50\n",
      " - 2s - loss: 0.0320 - acc: 0.9884\n",
      "Epoch 36/50\n",
      " - 2s - loss: 0.0560 - acc: 0.9836\n",
      "Epoch 37/50\n",
      " - 2s - loss: 0.0389 - acc: 0.9868\n",
      "Epoch 38/50\n",
      " - 2s - loss: 0.0711 - acc: 0.9773\n",
      "Epoch 39/50\n",
      " - 2s - loss: 0.0699 - acc: 0.9757\n",
      "Epoch 40/50\n",
      " - 2s - loss: 0.0243 - acc: 0.9916\n",
      "Epoch 41/50\n",
      " - 2s - loss: 0.0164 - acc: 0.9931\n",
      "Epoch 42/50\n",
      " - 2s - loss: 0.0265 - acc: 0.9910\n",
      "Epoch 43/50\n",
      " - 2s - loss: 0.0531 - acc: 0.9805\n",
      "Epoch 44/50\n",
      " - 2s - loss: 0.0496 - acc: 0.9826\n",
      "Epoch 45/50\n",
      " - 2s - loss: 0.1470 - acc: 0.9573\n",
      "Epoch 46/50\n",
      " - 2s - loss: 0.0508 - acc: 0.9831\n",
      "Epoch 47/50\n",
      " - 2s - loss: 0.0186 - acc: 0.9942\n",
      "Epoch 48/50\n",
      " - 2s - loss: 0.0702 - acc: 0.9763\n",
      "Epoch 49/50\n",
      " - 2s - loss: 0.0407 - acc: 0.9873\n",
      "Epoch 50/50\n",
      " - 2s - loss: 0.0385 - acc: 0.9900\n"
     ]
    },
    {
     "data": {
      "text/plain": [
       "<keras.callbacks.History at 0x18d95d8a908>"
      ]
     },
     "execution_count": 192,
     "metadata": {},
     "output_type": "execute_result"
    }
   ],
   "source": [
    "#try adding weights to classes or not\n",
    "#model.fit(X,y,epochs=30,batch_size=32,shuffle=True,class_weight=class_weight,verbose=2)\n",
    "model.fit(X,y,epochs=50,batch_size=16,shuffle=True,verbose=2)"
   ]
  },
  {
   "cell_type": "markdown",
   "metadata": {},
   "source": [
    "# Predictions 1\n",
    "Use the model to get predictions, first across all files in directory"
   ]
  },
  {
   "cell_type": "code",
   "execution_count": 193,
   "metadata": {},
   "outputs": [],
   "source": [
    "def build_pred_all_files(fn2class,audio_dir=path):\n",
    "    y_true = []\n",
    "    y_pred = []\n",
    "    fn_prob = {}\n",
    "        \n",
    "    for fn in tqdm(os.listdir(audio_dir)):\n",
    "        rate, wav = wavfile.read(os.path.join(audio_dir,fn))\n",
    "        label = fn2class[fn]\n",
    "        c = classes.index(label)\n",
    "        y_prob = []\n",
    "        y_per_file=[]\n",
    "        \n",
    "        #print(wav.shape[0],config.step,fn)\n",
    "        #break\n",
    "\n",
    "        for i in range(0,wav.shape[0]-config.step,config.step):\n",
    "            sample = wav[i:i+config.step]\n",
    "            #sample is a block of samples x secs (0.1) long\n",
    "            x = mfcc(sample,rate, numcep=config.nfeat,nfilt = config.nfilt,nfft=config.nfft)\n",
    "            x = (x-float(_min))/(float(_max)-float(_min))\n",
    "            x = x.reshape(1,x.shape[0],x.shape[1],1)\n",
    "            \n",
    "            #for every block of samples get the mfcc and compare to target\n",
    "            #y_hat is probability for each class - softmax in final layer\n",
    "            y_hat = model.predict(x)\n",
    "            y_prob.append(y_hat)\n",
    "            #y_pred is class corrsponding to max prob. for each block of samples (every x secs)\n",
    "            y_pred.append(np.argmax(y_hat))\n",
    "            #y_true is the real class\n",
    "            y_true.append(c)\n",
    "            \n",
    "        #print(label,c)\n",
    "        fn_prob[fn] = np.mean(y_prob,axis=0).flatten()\n",
    "        \n",
    "    return y_true, y_pred, fn_prob    "
   ]
  },
  {
   "cell_type": "code",
   "execution_count": 194,
   "metadata": {},
   "outputs": [
    {
     "name": "stderr",
     "output_type": "stream",
     "text": [
      " 22%|█████████████████▉                                                                 | 8/37 [00:03<00:13,  2.13it/s]C:\\Users\\richard\\Anaconda3\\envs\\tf15\\lib\\site-packages\\scipy\\io\\wavfile.py:273: WavFileWarning: Chunk (non-data) not understood, skipping it.\n",
      "  WavFileWarning)\n",
      " 84%|████████████████████████████████████████████████████████████████████▋             | 31/37 [00:09<00:01,  3.11it/s]C:\\Users\\richard\\Anaconda3\\envs\\tf15\\lib\\site-packages\\tqdm\\_monitor.py:89: TqdmSynchronisationWarning: Set changed size during iteration (see https://github.com/tqdm/tqdm/issues/481)\n",
      "  TqdmSynchronisationWarning)\n",
      "100%|██████████████████████████████████████████████████████████████████████████████████| 37/37 [00:11<00:00,  3.12it/s]\n"
     ]
    }
   ],
   "source": [
    "#y_pred is the result for each block of samples for every file\n",
    "#y_true is the actual value for each block of samples for every file\n",
    "#fn_prob is the value for each class probabilty for each file, the max value indicates the most likely class\n",
    "\n",
    "df = pd.read_csv(audio_classes_path)\n",
    "\n",
    "classes = list(np.unique(df.label))\n",
    "\n",
    "fn2class = dict(zip(df.file_name,df.label))\n",
    "\n",
    "y_true, y_pred, fn_prob = build_pred_all_files(fn2class,path)\n",
    "result = accuracy_score(y_true,y_pred)"
   ]
  },
  {
   "cell_type": "code",
   "execution_count": 195,
   "metadata": {},
   "outputs": [
    {
     "name": "stdout",
     "output_type": "stream",
     "text": [
      "The overall accuracy every 0.1 secs across all wav files is 0.82\n"
     ]
    }
   ],
   "source": [
    "#go through every file point x seconds and get total accuracy overall\n",
    "print(\"The overall accuracy every 0.1 secs across all wav files is {:.2f}\".format(result))"
   ]
  },
  {
   "cell_type": "markdown",
   "metadata": {},
   "source": [
    "## Prediction 2 \n",
    "Label each file using the majority class per all 0.1 seconds per file.  Fo example is music1.wav labelled as music?  "
   ]
  },
  {
   "cell_type": "code",
   "execution_count": 205,
   "metadata": {},
   "outputs": [
    {
     "data": {
      "text/html": [
       "<div>\n",
       "<style scoped>\n",
       "    .dataframe tbody tr th:only-of-type {\n",
       "        vertical-align: middle;\n",
       "    }\n",
       "\n",
       "    .dataframe tbody tr th {\n",
       "        vertical-align: top;\n",
       "    }\n",
       "\n",
       "    .dataframe thead th {\n",
       "        text-align: right;\n",
       "    }\n",
       "</style>\n",
       "<table border=\"1\" class=\"dataframe\">\n",
       "  <thead>\n",
       "    <tr style=\"text-align: right;\">\n",
       "      <th></th>\n",
       "      <th>file_name</th>\n",
       "      <th>label</th>\n",
       "      <th>y_pred</th>\n",
       "    </tr>\n",
       "  </thead>\n",
       "  <tbody>\n",
       "    <tr>\n",
       "      <th>0</th>\n",
       "      <td>music_plus_noise1.wav</td>\n",
       "      <td>music_noise</td>\n",
       "      <td>music_noise</td>\n",
       "    </tr>\n",
       "    <tr>\n",
       "      <th>1</th>\n",
       "      <td>music_plus_noise2.wav</td>\n",
       "      <td>music_noise</td>\n",
       "      <td>music_noise</td>\n",
       "    </tr>\n",
       "    <tr>\n",
       "      <th>2</th>\n",
       "      <td>music_twintones1.wav</td>\n",
       "      <td>music_noise</td>\n",
       "      <td>music_noise</td>\n",
       "    </tr>\n",
       "    <tr>\n",
       "      <th>3</th>\n",
       "      <td>music_plus_speech1.wav</td>\n",
       "      <td>music_speech</td>\n",
       "      <td>music_speech</td>\n",
       "    </tr>\n",
       "    <tr>\n",
       "      <th>4</th>\n",
       "      <td>music1.wav</td>\n",
       "      <td>music</td>\n",
       "      <td>music</td>\n",
       "    </tr>\n",
       "    <tr>\n",
       "      <th>5</th>\n",
       "      <td>music2.wav</td>\n",
       "      <td>music</td>\n",
       "      <td>music</td>\n",
       "    </tr>\n",
       "    <tr>\n",
       "      <th>6</th>\n",
       "      <td>music3.wav</td>\n",
       "      <td>music</td>\n",
       "      <td>music</td>\n",
       "    </tr>\n",
       "    <tr>\n",
       "      <th>7</th>\n",
       "      <td>music4.wav</td>\n",
       "      <td>music</td>\n",
       "      <td>music</td>\n",
       "    </tr>\n",
       "    <tr>\n",
       "      <th>8</th>\n",
       "      <td>music5.wav</td>\n",
       "      <td>music</td>\n",
       "      <td>music</td>\n",
       "    </tr>\n",
       "    <tr>\n",
       "      <th>9</th>\n",
       "      <td>noise1.wav</td>\n",
       "      <td>noise</td>\n",
       "      <td>noise</td>\n",
       "    </tr>\n",
       "    <tr>\n",
       "      <th>10</th>\n",
       "      <td>noise2.wav</td>\n",
       "      <td>noise</td>\n",
       "      <td>noise</td>\n",
       "    </tr>\n",
       "    <tr>\n",
       "      <th>11</th>\n",
       "      <td>noise3.wav</td>\n",
       "      <td>noise</td>\n",
       "      <td>noise</td>\n",
       "    </tr>\n",
       "    <tr>\n",
       "      <th>12</th>\n",
       "      <td>noise4.wav</td>\n",
       "      <td>noise</td>\n",
       "      <td>noise</td>\n",
       "    </tr>\n",
       "    <tr>\n",
       "      <th>13</th>\n",
       "      <td>noise5.wav</td>\n",
       "      <td>noise</td>\n",
       "      <td>noise</td>\n",
       "    </tr>\n",
       "    <tr>\n",
       "      <th>14</th>\n",
       "      <td>noise6.wav</td>\n",
       "      <td>noise</td>\n",
       "      <td>noise</td>\n",
       "    </tr>\n",
       "    <tr>\n",
       "      <th>15</th>\n",
       "      <td>speech_nb_plus_noise1.wav</td>\n",
       "      <td>speech_nb_noise</td>\n",
       "      <td>speech_nb_noise</td>\n",
       "    </tr>\n",
       "    <tr>\n",
       "      <th>16</th>\n",
       "      <td>speech_nb_plus_noise2.wav</td>\n",
       "      <td>speech_nb_noise</td>\n",
       "      <td>speech_nb_noise</td>\n",
       "    </tr>\n",
       "    <tr>\n",
       "      <th>17</th>\n",
       "      <td>speech_nb_plus_noise3.wav</td>\n",
       "      <td>speech_nb_noise</td>\n",
       "      <td>speech_nb_noise</td>\n",
       "    </tr>\n",
       "    <tr>\n",
       "      <th>18</th>\n",
       "      <td>speech_nb_plus_noise4.wav</td>\n",
       "      <td>speech_nb_noise</td>\n",
       "      <td>speech_nb_noise</td>\n",
       "    </tr>\n",
       "    <tr>\n",
       "      <th>19</th>\n",
       "      <td>speech_nb1.wav</td>\n",
       "      <td>speech_nb</td>\n",
       "      <td>speech_nb</td>\n",
       "    </tr>\n",
       "    <tr>\n",
       "      <th>20</th>\n",
       "      <td>speech_nb2.wav</td>\n",
       "      <td>speech_nb</td>\n",
       "      <td>speech_nb</td>\n",
       "    </tr>\n",
       "    <tr>\n",
       "      <th>21</th>\n",
       "      <td>speech_nb3.wav</td>\n",
       "      <td>speech_nb</td>\n",
       "      <td>speech_nb</td>\n",
       "    </tr>\n",
       "    <tr>\n",
       "      <th>22</th>\n",
       "      <td>speech_nb4.wav</td>\n",
       "      <td>speech_nb</td>\n",
       "      <td>speech_nb</td>\n",
       "    </tr>\n",
       "    <tr>\n",
       "      <th>23</th>\n",
       "      <td>speech_nb5.wav</td>\n",
       "      <td>speech_nb</td>\n",
       "      <td>speech_nb</td>\n",
       "    </tr>\n",
       "    <tr>\n",
       "      <th>24</th>\n",
       "      <td>speech_nb6.wav</td>\n",
       "      <td>speech_nb</td>\n",
       "      <td>speech_nb</td>\n",
       "    </tr>\n",
       "    <tr>\n",
       "      <th>25</th>\n",
       "      <td>speech_wb_plus_noise1.wav</td>\n",
       "      <td>speech_wb_noise</td>\n",
       "      <td>speech_wb_noise</td>\n",
       "    </tr>\n",
       "    <tr>\n",
       "      <th>26</th>\n",
       "      <td>speech_wb_plus_noise2.wav</td>\n",
       "      <td>speech_wb_noise</td>\n",
       "      <td>speech_wb_noise</td>\n",
       "    </tr>\n",
       "    <tr>\n",
       "      <th>27</th>\n",
       "      <td>speech_wb_plus_noise3.wav</td>\n",
       "      <td>speech_wb_noise</td>\n",
       "      <td>speech_wb_noise</td>\n",
       "    </tr>\n",
       "    <tr>\n",
       "      <th>28</th>\n",
       "      <td>speech_wb_plus_noise4.wav</td>\n",
       "      <td>speech_wb_noise</td>\n",
       "      <td>speech_wb_noise</td>\n",
       "    </tr>\n",
       "    <tr>\n",
       "      <th>29</th>\n",
       "      <td>speech_wb_plus_noise5.wav</td>\n",
       "      <td>speech_wb_noise</td>\n",
       "      <td>speech_wb_noise</td>\n",
       "    </tr>\n",
       "    <tr>\n",
       "      <th>30</th>\n",
       "      <td>speech_wb_plus_noise6.wav</td>\n",
       "      <td>speech_wb_noise</td>\n",
       "      <td>speech_wb</td>\n",
       "    </tr>\n",
       "    <tr>\n",
       "      <th>31</th>\n",
       "      <td>speech_wb1.wav</td>\n",
       "      <td>speech_wb</td>\n",
       "      <td>speech_wb</td>\n",
       "    </tr>\n",
       "    <tr>\n",
       "      <th>32</th>\n",
       "      <td>speech_wb2.wav</td>\n",
       "      <td>speech_wb</td>\n",
       "      <td>speech_wb</td>\n",
       "    </tr>\n",
       "    <tr>\n",
       "      <th>33</th>\n",
       "      <td>speech_wb3.wav</td>\n",
       "      <td>speech_wb</td>\n",
       "      <td>speech_wb</td>\n",
       "    </tr>\n",
       "    <tr>\n",
       "      <th>34</th>\n",
       "      <td>speech_wb4.wav</td>\n",
       "      <td>speech_wb</td>\n",
       "      <td>speech_wb</td>\n",
       "    </tr>\n",
       "    <tr>\n",
       "      <th>35</th>\n",
       "      <td>speech_wb5.wav</td>\n",
       "      <td>speech_wb</td>\n",
       "      <td>speech_wb</td>\n",
       "    </tr>\n",
       "    <tr>\n",
       "      <th>36</th>\n",
       "      <td>speech_wb6.wav</td>\n",
       "      <td>speech_wb</td>\n",
       "      <td>speech_wb</td>\n",
       "    </tr>\n",
       "  </tbody>\n",
       "</table>\n",
       "</div>"
      ],
      "text/plain": [
       "                    file_name            label           y_pred\n",
       "0       music_plus_noise1.wav      music_noise      music_noise\n",
       "1       music_plus_noise2.wav      music_noise      music_noise\n",
       "2        music_twintones1.wav      music_noise      music_noise\n",
       "3      music_plus_speech1.wav     music_speech     music_speech\n",
       "4                  music1.wav            music            music\n",
       "5                  music2.wav            music            music\n",
       "6                  music3.wav            music            music\n",
       "7                  music4.wav            music            music\n",
       "8                  music5.wav            music            music\n",
       "9                  noise1.wav            noise            noise\n",
       "10                 noise2.wav            noise            noise\n",
       "11                 noise3.wav            noise            noise\n",
       "12                 noise4.wav            noise            noise\n",
       "13                 noise5.wav            noise            noise\n",
       "14                 noise6.wav            noise            noise\n",
       "15  speech_nb_plus_noise1.wav  speech_nb_noise  speech_nb_noise\n",
       "16  speech_nb_plus_noise2.wav  speech_nb_noise  speech_nb_noise\n",
       "17  speech_nb_plus_noise3.wav  speech_nb_noise  speech_nb_noise\n",
       "18  speech_nb_plus_noise4.wav  speech_nb_noise  speech_nb_noise\n",
       "19             speech_nb1.wav        speech_nb        speech_nb\n",
       "20             speech_nb2.wav        speech_nb        speech_nb\n",
       "21             speech_nb3.wav        speech_nb        speech_nb\n",
       "22             speech_nb4.wav        speech_nb        speech_nb\n",
       "23             speech_nb5.wav        speech_nb        speech_nb\n",
       "24             speech_nb6.wav        speech_nb        speech_nb\n",
       "25  speech_wb_plus_noise1.wav  speech_wb_noise  speech_wb_noise\n",
       "26  speech_wb_plus_noise2.wav  speech_wb_noise  speech_wb_noise\n",
       "27  speech_wb_plus_noise3.wav  speech_wb_noise  speech_wb_noise\n",
       "28  speech_wb_plus_noise4.wav  speech_wb_noise  speech_wb_noise\n",
       "29  speech_wb_plus_noise5.wav  speech_wb_noise  speech_wb_noise\n",
       "30  speech_wb_plus_noise6.wav  speech_wb_noise        speech_wb\n",
       "31             speech_wb1.wav        speech_wb        speech_wb\n",
       "32             speech_wb2.wav        speech_wb        speech_wb\n",
       "33             speech_wb3.wav        speech_wb        speech_wb\n",
       "34             speech_wb4.wav        speech_wb        speech_wb\n",
       "35             speech_wb5.wav        speech_wb        speech_wb\n",
       "36             speech_wb6.wav        speech_wb        speech_wb"
      ]
     },
     "execution_count": 205,
     "metadata": {},
     "output_type": "execute_result"
    }
   ],
   "source": [
    "#write result for each file usually 100% correct?\n",
    "if write_to_output:\n",
    "    y_probs = []\n",
    "    for i, row in df.iterrows():\n",
    "        y_prob = fn_prob[row.file_name]\n",
    "        y_probs.append(y_prob)\n",
    "        for c,p in zip(classes,y_prob):\n",
    "            df.at[i,c] = p\n",
    "    y_pred = [ classes [ np.argmax(y)] for y in y_probs] \n",
    "    df['y_pred'] = y_pred\n",
    "    #get rid of the probabilities for write to file\n",
    "    df = df[[\"file_name\", \"label\",'y_pred']]\n",
    "    #df.to_csv('predictions.csv',index=False)\n",
    "df"
   ]
  },
  {
   "cell_type": "markdown",
   "metadata": {},
   "source": [
    "All files are correctly labelled as the correct type.  Doesn't agree with results below!"
   ]
  },
  {
   "cell_type": "markdown",
   "metadata": {},
   "source": [
    "# Final Predictions\n",
    "Get the predictions for every x samples and compare for each file. These are the final and most appropiate results"
   ]
  },
  {
   "cell_type": "code",
   "execution_count": 197,
   "metadata": {},
   "outputs": [],
   "source": [
    "def build_pred_per_file(fn2class,audio_dir,fn):\n",
    "    y_true = []\n",
    "    y_pred = []\n",
    "        \n",
    "    #for fn in tqdm(os.listdir(audio_dir)):\n",
    "    rate, wav = wavfile.read(os.path.join(audio_dir,fn))\n",
    "    label = fn2class[fn]\n",
    "    c = classes.index(label)\n",
    "\n",
    "    for i in range(0,wav.shape[0]-config.step,config.step):\n",
    "        sample = wav[i:i+config.step]\n",
    "        #sample is a block of samples x secs long\n",
    "        x = mfcc(sample,rate, numcep=config.nfeat,nfilt = config.nfilt,nfft=config.nfft)\n",
    "        x = (x-float(_min))/(float(_max)-float(_min))\n",
    "        x = x.reshape(1,x.shape[0],x.shape[1],1)\n",
    "        #for every block of samples get the mfcc and compare to target\n",
    "        #y_hat is probability for each class - softmax in final layer\n",
    "        y_hat = model.predict(x)\n",
    "        #y_pred is class corrsponding to max prob. for each block of samples (every x secs)\n",
    "        y_pred.append(np.argmax(y_hat))\n",
    "        #y_true is the real class\n",
    "        y_true.append(c)\n",
    "\n",
    "    return y_true, y_pred"
   ]
  },
  {
   "cell_type": "code",
   "execution_count": 198,
   "metadata": {},
   "outputs": [
    {
     "name": "stdout",
     "output_type": "stream",
     "text": [
      "The overall accuracy score per 0.1 secs is 0.78 for music1.wav\n",
      "The overall accuracy score per 0.1 secs is 1.00 for music2.wav\n",
      "The overall accuracy score per 0.1 secs is 0.93 for music3.wav\n",
      "The overall accuracy score per 0.1 secs is 0.98 for music4.wav\n",
      "The overall accuracy score per 0.1 secs is 0.67 for music5.wav\n",
      "The overall accuracy score per 0.1 secs is 0.92 for music_plus_noise1.wav\n",
      "The overall accuracy score per 0.1 secs is 0.56 for music_plus_noise2.wav\n",
      "The overall accuracy score per 0.1 secs is 0.98 for music_plus_speech1.wav\n"
     ]
    },
    {
     "name": "stderr",
     "output_type": "stream",
     "text": [
      "C:\\Users\\richard\\Anaconda3\\envs\\tf15\\lib\\site-packages\\scipy\\io\\wavfile.py:273: WavFileWarning: Chunk (non-data) not understood, skipping it.\n",
      "  WavFileWarning)\n"
     ]
    },
    {
     "name": "stdout",
     "output_type": "stream",
     "text": [
      "The overall accuracy score per 0.1 secs is 0.87 for music_twintones1.wav\n",
      "The overall accuracy score per 0.1 secs is 1.00 for noise1.wav\n",
      "The overall accuracy score per 0.1 secs is 1.00 for noise2.wav\n",
      "The overall accuracy score per 0.1 secs is 1.00 for noise3.wav\n",
      "The overall accuracy score per 0.1 secs is 1.00 for noise4.wav\n",
      "The overall accuracy score per 0.1 secs is 1.00 for noise5.wav\n",
      "The overall accuracy score per 0.1 secs is 1.00 for noise6.wav\n",
      "The overall accuracy score per 0.1 secs is 0.82 for speech_nb1.wav\n",
      "The overall accuracy score per 0.1 secs is 0.87 for speech_nb2.wav\n",
      "The overall accuracy score per 0.1 secs is 0.96 for speech_nb3.wav\n",
      "The overall accuracy score per 0.1 secs is 0.75 for speech_nb4.wav\n",
      "The overall accuracy score per 0.1 secs is 0.78 for speech_nb5.wav\n",
      "The overall accuracy score per 0.1 secs is 0.83 for speech_nb6.wav\n",
      "The overall accuracy score per 0.1 secs is 0.98 for speech_nb_plus_noise1.wav\n",
      "The overall accuracy score per 0.1 secs is 0.99 for speech_nb_plus_noise2.wav\n",
      "The overall accuracy score per 0.1 secs is 0.96 for speech_nb_plus_noise3.wav\n",
      "The overall accuracy score per 0.1 secs is 0.85 for speech_nb_plus_noise4.wav\n",
      "The overall accuracy score per 0.1 secs is 0.87 for speech_wb1.wav\n",
      "The overall accuracy score per 0.1 secs is 0.97 for speech_wb2.wav\n",
      "The overall accuracy score per 0.1 secs is 0.83 for speech_wb3.wav\n",
      "The overall accuracy score per 0.1 secs is 0.86 for speech_wb4.wav\n",
      "The overall accuracy score per 0.1 secs is 0.95 for speech_wb5.wav\n",
      "The overall accuracy score per 0.1 secs is 0.96 for speech_wb6.wav\n",
      "The overall accuracy score per 0.1 secs is 0.57 for speech_wb_plus_noise1.wav\n",
      "The overall accuracy score per 0.1 secs is 0.62 for speech_wb_plus_noise2.wav\n",
      "The overall accuracy score per 0.1 secs is 0.62 for speech_wb_plus_noise3.wav\n",
      "The overall accuracy score per 0.1 secs is 0.54 for speech_wb_plus_noise4.wav\n",
      "The overall accuracy score per 0.1 secs is 0.64 for speech_wb_plus_noise5.wav\n",
      "The overall accuracy score per 0.1 secs is 0.13 for speech_wb_plus_noise6.wav\n",
      "0.8385432753854886\n"
     ]
    }
   ],
   "source": [
    "files = os.listdir(path)\n",
    "sum_scores = 0\n",
    "for file in files:\n",
    "    y_true, y_pred = build_pred_per_file(fn2class,path,file)\n",
    "    score = accuracy_score(y_true,y_pred)\n",
    "    sum_scores += score;\n",
    "    print(\"The overall accuracy score per 0.1 secs is {:.2f} for {}\".format(score,file))\n",
    "\n",
    "print(sum_scores/len(files))"
   ]
  },
  {
   "cell_type": "markdown",
   "metadata": {},
   "source": [
    "# Conclusions\n",
    "- We can see that the results for tend to be much better for single component audio than audio composed of two components.  For example noise and speech_wb_plus_noise.\n",
    "- The cause of the error is the way the files were made by me and the sample window used to collect the audio\n",
    "- When the files were made I mixed two components together to generate the audio file.  For example speech plus noise was constructed using speech and twin tone noise.  Therefore in that file speech is continuous but varies in amplitude but the twin tone lasts only for a short time.  When I take a ramdom sample of the audio file I may not be taking speech AND twin tone - It may be just speech or speech AND small component of twin tone. I believe this is the main cause of errors you see here.\n",
    "- This is also seen when making predictions, two component audio results can sometimes be very good - it just depends if the sample collection is capturing the two audio components.\n"
   ]
  },
  {
   "cell_type": "code",
   "execution_count": null,
   "metadata": {},
   "outputs": [],
   "source": []
  }
 ],
 "metadata": {
  "kernelspec": {
   "display_name": "Python 3",
   "language": "python",
   "name": "python3"
  },
  "language_info": {
   "codemirror_mode": {
    "name": "ipython",
    "version": 3
   },
   "file_extension": ".py",
   "mimetype": "text/x-python",
   "name": "python",
   "nbconvert_exporter": "python",
   "pygments_lexer": "ipython3",
   "version": "3.6.4"
  }
 },
 "nbformat": 4,
 "nbformat_minor": 2
}
